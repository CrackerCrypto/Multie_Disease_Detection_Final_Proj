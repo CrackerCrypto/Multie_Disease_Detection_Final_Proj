{
 "cells": [
  {
   "cell_type": "code",
   "execution_count": 2,
   "id": "03a8b6ec",
   "metadata": {},
   "outputs": [],
   "source": [
    "import pandas as pd\n",
    "import numpy as np\n",
    "\n",
    "from sklearn.model_selection import train_test_split\n",
    "import tensorflow as tf\n",
    "from tensorflow.keras.models import Sequential\n",
    "from tensorflow.keras.layers import Dense, Dropout\n",
    "\n",
    "import matplotlib.pyplot as plt\n",
    "import seaborn as sns"
   ]
  },
  {
   "cell_type": "code",
   "execution_count": 4,
   "id": "0f4958a4",
   "metadata": {},
   "outputs": [
    {
     "data": {
      "text/html": [
       "<div>\n",
       "<style scoped>\n",
       "    .dataframe tbody tr th:only-of-type {\n",
       "        vertical-align: middle;\n",
       "    }\n",
       "\n",
       "    .dataframe tbody tr th {\n",
       "        vertical-align: top;\n",
       "    }\n",
       "\n",
       "    .dataframe thead th {\n",
       "        text-align: right;\n",
       "    }\n",
       "</style>\n",
       "<table border=\"1\" class=\"dataframe\">\n",
       "  <thead>\n",
       "    <tr style=\"text-align: right;\">\n",
       "      <th></th>\n",
       "      <th>age</th>\n",
       "      <th>sex</th>\n",
       "      <th>on thyroxine</th>\n",
       "      <th>query on thyroxine</th>\n",
       "      <th>on antithyroid medication</th>\n",
       "      <th>sick</th>\n",
       "      <th>pregnant</th>\n",
       "      <th>thyroid surgery</th>\n",
       "      <th>I131 treatment</th>\n",
       "      <th>query hypothyroid</th>\n",
       "      <th>...</th>\n",
       "      <th>T3 measured</th>\n",
       "      <th>t3_value</th>\n",
       "      <th>TT4 measured</th>\n",
       "      <th>tt4_value</th>\n",
       "      <th>T4U measured</th>\n",
       "      <th>t4u_value</th>\n",
       "      <th>FTI measured</th>\n",
       "      <th>fti_value</th>\n",
       "      <th>TBG measured</th>\n",
       "      <th>binaryClass</th>\n",
       "    </tr>\n",
       "  </thead>\n",
       "  <tbody>\n",
       "    <tr>\n",
       "      <th>0</th>\n",
       "      <td>41.0</td>\n",
       "      <td>1.0</td>\n",
       "      <td>0</td>\n",
       "      <td>0</td>\n",
       "      <td>0</td>\n",
       "      <td>0</td>\n",
       "      <td>0</td>\n",
       "      <td>0</td>\n",
       "      <td>0</td>\n",
       "      <td>0</td>\n",
       "      <td>...</td>\n",
       "      <td>1</td>\n",
       "      <td>2.5000</td>\n",
       "      <td>1</td>\n",
       "      <td>125.0</td>\n",
       "      <td>1</td>\n",
       "      <td>1.140</td>\n",
       "      <td>1</td>\n",
       "      <td>109.000000</td>\n",
       "      <td>0</td>\n",
       "      <td>0</td>\n",
       "    </tr>\n",
       "    <tr>\n",
       "      <th>1</th>\n",
       "      <td>23.0</td>\n",
       "      <td>1.0</td>\n",
       "      <td>0</td>\n",
       "      <td>0</td>\n",
       "      <td>0</td>\n",
       "      <td>0</td>\n",
       "      <td>0</td>\n",
       "      <td>0</td>\n",
       "      <td>0</td>\n",
       "      <td>0</td>\n",
       "      <td>...</td>\n",
       "      <td>1</td>\n",
       "      <td>2.0000</td>\n",
       "      <td>1</td>\n",
       "      <td>102.0</td>\n",
       "      <td>0</td>\n",
       "      <td>0.995</td>\n",
       "      <td>0</td>\n",
       "      <td>110.469649</td>\n",
       "      <td>0</td>\n",
       "      <td>0</td>\n",
       "    </tr>\n",
       "    <tr>\n",
       "      <th>2</th>\n",
       "      <td>46.0</td>\n",
       "      <td>0.0</td>\n",
       "      <td>0</td>\n",
       "      <td>0</td>\n",
       "      <td>0</td>\n",
       "      <td>0</td>\n",
       "      <td>0</td>\n",
       "      <td>0</td>\n",
       "      <td>0</td>\n",
       "      <td>0</td>\n",
       "      <td>...</td>\n",
       "      <td>0</td>\n",
       "      <td>2.0135</td>\n",
       "      <td>1</td>\n",
       "      <td>109.0</td>\n",
       "      <td>1</td>\n",
       "      <td>0.910</td>\n",
       "      <td>1</td>\n",
       "      <td>120.000000</td>\n",
       "      <td>0</td>\n",
       "      <td>0</td>\n",
       "    </tr>\n",
       "    <tr>\n",
       "      <th>3</th>\n",
       "      <td>70.0</td>\n",
       "      <td>1.0</td>\n",
       "      <td>1</td>\n",
       "      <td>0</td>\n",
       "      <td>0</td>\n",
       "      <td>0</td>\n",
       "      <td>0</td>\n",
       "      <td>0</td>\n",
       "      <td>0</td>\n",
       "      <td>0</td>\n",
       "      <td>...</td>\n",
       "      <td>1</td>\n",
       "      <td>1.9000</td>\n",
       "      <td>1</td>\n",
       "      <td>175.0</td>\n",
       "      <td>0</td>\n",
       "      <td>0.995</td>\n",
       "      <td>0</td>\n",
       "      <td>110.469649</td>\n",
       "      <td>0</td>\n",
       "      <td>0</td>\n",
       "    </tr>\n",
       "    <tr>\n",
       "      <th>4</th>\n",
       "      <td>70.0</td>\n",
       "      <td>1.0</td>\n",
       "      <td>0</td>\n",
       "      <td>0</td>\n",
       "      <td>0</td>\n",
       "      <td>0</td>\n",
       "      <td>0</td>\n",
       "      <td>0</td>\n",
       "      <td>0</td>\n",
       "      <td>0</td>\n",
       "      <td>...</td>\n",
       "      <td>1</td>\n",
       "      <td>1.2000</td>\n",
       "      <td>1</td>\n",
       "      <td>61.0</td>\n",
       "      <td>1</td>\n",
       "      <td>0.870</td>\n",
       "      <td>1</td>\n",
       "      <td>70.000000</td>\n",
       "      <td>0</td>\n",
       "      <td>0</td>\n",
       "    </tr>\n",
       "  </tbody>\n",
       "</table>\n",
       "<p>5 rows × 28 columns</p>\n",
       "</div>"
      ],
      "text/plain": [
       "    age  sex  on thyroxine  query on thyroxine  on antithyroid medication  \\\n",
       "0  41.0  1.0             0                   0                          0   \n",
       "1  23.0  1.0             0                   0                          0   \n",
       "2  46.0  0.0             0                   0                          0   \n",
       "3  70.0  1.0             1                   0                          0   \n",
       "4  70.0  1.0             0                   0                          0   \n",
       "\n",
       "   sick  pregnant  thyroid surgery  I131 treatment  query hypothyroid  ...  \\\n",
       "0     0         0                0               0                  0  ...   \n",
       "1     0         0                0               0                  0  ...   \n",
       "2     0         0                0               0                  0  ...   \n",
       "3     0         0                0               0                  0  ...   \n",
       "4     0         0                0               0                  0  ...   \n",
       "\n",
       "   T3 measured  t3_value  TT4 measured  tt4_value  T4U measured  t4u_value  \\\n",
       "0            1    2.5000             1      125.0             1      1.140   \n",
       "1            1    2.0000             1      102.0             0      0.995   \n",
       "2            0    2.0135             1      109.0             1      0.910   \n",
       "3            1    1.9000             1      175.0             0      0.995   \n",
       "4            1    1.2000             1       61.0             1      0.870   \n",
       "\n",
       "   FTI measured   fti_value  TBG measured  binaryClass  \n",
       "0             1  109.000000             0            0  \n",
       "1             0  110.469649             0            0  \n",
       "2             1  120.000000             0            0  \n",
       "3             0  110.469649             0            0  \n",
       "4             1   70.000000             0            0  \n",
       "\n",
       "[5 rows x 28 columns]"
      ]
     },
     "execution_count": 4,
     "metadata": {},
     "output_type": "execute_result"
    }
   ],
   "source": [
    "df = pd.read_csv(\"D:\\\\Project_Disease_Prediction\\\\datasets\\\\thyroid_checking_dataset.csv\")\n",
    "df.head()"
   ]
  },
  {
   "cell_type": "code",
   "execution_count": 5,
   "id": "a1ee7950",
   "metadata": {},
   "outputs": [
    {
     "data": {
      "text/plain": [
       "array([0, 1], dtype=int64)"
      ]
     },
     "execution_count": 5,
     "metadata": {},
     "output_type": "execute_result"
    }
   ],
   "source": [
    "df['binaryClass'].unique()"
   ]
  },
  {
   "cell_type": "code",
   "execution_count": 13,
   "id": "565a46d1",
   "metadata": {},
   "outputs": [],
   "source": [
    "X = df.iloc[:, 2:27]\n",
    "Y = df.loc[:,['binaryClass']]"
   ]
  },
  {
   "cell_type": "code",
   "execution_count": 14,
   "id": "111477b9",
   "metadata": {},
   "outputs": [
    {
     "name": "stdout",
     "output_type": "stream",
     "text": [
      "25\n",
      "2\n"
     ]
    }
   ],
   "source": [
    "no_input_nodes = X.shape[1]\n",
    "print(no_input_nodes)\n",
    "\n",
    "no_output_nodes = len(Y['binaryClass'].unique())\n",
    "print(no_output_nodes)"
   ]
  },
  {
   "cell_type": "code",
   "execution_count": 15,
   "id": "416e2d9f",
   "metadata": {},
   "outputs": [],
   "source": [
    "X_train, X_test, y_train, y_test = train_test_split(X, Y, test_size=0.20, random_state=44)"
   ]
  },
  {
   "cell_type": "code",
   "execution_count": 16,
   "id": "f67330b3",
   "metadata": {},
   "outputs": [],
   "source": [
    "Classification_model = Sequential(\n",
    "    [\n",
    "        tf.keras.Input(shape=(no_input_nodes,)),\n",
    "        Dense(256, activation='relu', name='layer_1'),\n",
    "        Dropout(0.2),\n",
    "        Dense(128, activation='relu', name='layer_2'),\n",
    "        Dropout(0.2),\n",
    "        Dense(63, activation='relu', name='layer_3'),\n",
    "        Dropout(0.1),\n",
    "        Dense(no_output_nodes, activation='softmax', name='output_layer')\n",
    "    ]\n",
    ")\n",
    "\n",
    "Classification_model.compile(optimizer = tf.keras.optimizers.Adam(learning_rate=0.0001), loss = tf.keras.losses.SparseCategoricalCrossentropy(), metrics = ['accuracy'])"
   ]
  },
  {
   "cell_type": "code",
   "execution_count": 17,
   "id": "92f062d9",
   "metadata": {},
   "outputs": [
    {
     "name": "stdout",
     "output_type": "stream",
     "text": [
      "Model: \"sequential_1\"\n",
      "_________________________________________________________________\n",
      " Layer (type)                Output Shape              Param #   \n",
      "=================================================================\n",
      " layer_1 (Dense)             (None, 256)               6656      \n",
      "                                                                 \n",
      " dropout_3 (Dropout)         (None, 256)               0         \n",
      "                                                                 \n",
      " layer_2 (Dense)             (None, 128)               32896     \n",
      "                                                                 \n",
      " dropout_4 (Dropout)         (None, 128)               0         \n",
      "                                                                 \n",
      " layer_3 (Dense)             (None, 63)                8127      \n",
      "                                                                 \n",
      " dropout_5 (Dropout)         (None, 63)                0         \n",
      "                                                                 \n",
      " output_layer (Dense)        (None, 2)                 128       \n",
      "                                                                 \n",
      "=================================================================\n",
      "Total params: 47,807\n",
      "Trainable params: 47,807\n",
      "Non-trainable params: 0\n",
      "_________________________________________________________________\n"
     ]
    }
   ],
   "source": [
    "Classification_model.summary()"
   ]
  },
  {
   "cell_type": "code",
   "execution_count": 18,
   "id": "9881e1f2",
   "metadata": {},
   "outputs": [
    {
     "name": "stdout",
     "output_type": "stream",
     "text": [
      "Epoch 1/50\n",
      "3017/3017 [==============================] - 9s 3ms/step - loss: 0.4403 - accuracy: 0.9082\n",
      "Epoch 2/50\n",
      "3017/3017 [==============================] - 7s 2ms/step - loss: 0.2573 - accuracy: 0.9254\n",
      "Epoch 3/50\n",
      "3017/3017 [==============================] - 7s 2ms/step - loss: 0.2186 - accuracy: 0.9360\n",
      "Epoch 4/50\n",
      "3017/3017 [==============================] - 7s 2ms/step - loss: 0.1820 - accuracy: 0.9433\n",
      "Epoch 5/50\n",
      "3017/3017 [==============================] - 8s 3ms/step - loss: 0.1544 - accuracy: 0.9456\n",
      "Epoch 6/50\n",
      "3017/3017 [==============================] - 7s 2ms/step - loss: 0.1537 - accuracy: 0.9523\n",
      "Epoch 7/50\n",
      "3017/3017 [==============================] - 7s 2ms/step - loss: 0.1202 - accuracy: 0.9556\n",
      "Epoch 8/50\n",
      "3017/3017 [==============================] - 7s 2ms/step - loss: 0.1125 - accuracy: 0.9612\n",
      "Epoch 9/50\n",
      "3017/3017 [==============================] - 7s 2ms/step - loss: 0.1146 - accuracy: 0.9592\n",
      "Epoch 10/50\n",
      "3017/3017 [==============================] - 7s 2ms/step - loss: 0.1198 - accuracy: 0.9612\n",
      "Epoch 11/50\n",
      "3017/3017 [==============================] - 8s 3ms/step - loss: 0.1057 - accuracy: 0.9659\n",
      "Epoch 12/50\n",
      "3017/3017 [==============================] - 7s 2ms/step - loss: 0.0979 - accuracy: 0.9708\n",
      "Epoch 13/50\n",
      "3017/3017 [==============================] - 8s 3ms/step - loss: 0.1059 - accuracy: 0.9665\n",
      "Epoch 14/50\n",
      "3017/3017 [==============================] - 7s 2ms/step - loss: 0.0950 - accuracy: 0.9665\n",
      "Epoch 15/50\n",
      "3017/3017 [==============================] - 7s 2ms/step - loss: 0.0899 - accuracy: 0.9685\n",
      "Epoch 16/50\n",
      "3017/3017 [==============================] - 8s 2ms/step - loss: 0.1014 - accuracy: 0.9655\n",
      "Epoch 17/50\n",
      "3017/3017 [==============================] - 8s 3ms/step - loss: 0.0826 - accuracy: 0.9725\n",
      "Epoch 18/50\n",
      "3017/3017 [==============================] - 7s 2ms/step - loss: 0.0945 - accuracy: 0.9705\n",
      "Epoch 19/50\n",
      "3017/3017 [==============================] - 7s 2ms/step - loss: 0.0913 - accuracy: 0.9705\n",
      "Epoch 20/50\n",
      "3017/3017 [==============================] - 6s 2ms/step - loss: 0.0833 - accuracy: 0.9725\n",
      "Epoch 21/50\n",
      "3017/3017 [==============================] - 7s 2ms/step - loss: 0.0840 - accuracy: 0.9698\n",
      "Epoch 22/50\n",
      "3017/3017 [==============================] - 7s 2ms/step - loss: 0.0964 - accuracy: 0.9688\n",
      "Epoch 23/50\n",
      "3017/3017 [==============================] - 7s 2ms/step - loss: 0.0864 - accuracy: 0.9728\n",
      "Epoch 24/50\n",
      "3017/3017 [==============================] - 7s 2ms/step - loss: 0.0861 - accuracy: 0.9705\n",
      "Epoch 25/50\n",
      "3017/3017 [==============================] - 7s 2ms/step - loss: 0.0866 - accuracy: 0.9692\n",
      "Epoch 26/50\n",
      "3017/3017 [==============================] - 7s 2ms/step - loss: 0.0799 - accuracy: 0.9725\n",
      "Epoch 27/50\n",
      "3017/3017 [==============================] - 7s 2ms/step - loss: 0.0759 - accuracy: 0.9698\n",
      "Epoch 28/50\n",
      "3017/3017 [==============================] - 7s 2ms/step - loss: 0.0843 - accuracy: 0.9702\n",
      "Epoch 29/50\n",
      "3017/3017 [==============================] - 7s 2ms/step - loss: 0.0834 - accuracy: 0.9715\n",
      "Epoch 30/50\n",
      "3017/3017 [==============================] - 8s 2ms/step - loss: 0.0876 - accuracy: 0.9735\n",
      "Epoch 31/50\n",
      "3017/3017 [==============================] - 7s 2ms/step - loss: 0.0850 - accuracy: 0.9728\n",
      "Epoch 32/50\n",
      "3017/3017 [==============================] - 7s 2ms/step - loss: 0.0744 - accuracy: 0.9738\n",
      "Epoch 33/50\n",
      "3017/3017 [==============================] - 7s 2ms/step - loss: 0.0741 - accuracy: 0.9738\n",
      "Epoch 34/50\n",
      "3017/3017 [==============================] - 7s 2ms/step - loss: 0.0784 - accuracy: 0.9715\n",
      "Epoch 35/50\n",
      "3017/3017 [==============================] - 7s 2ms/step - loss: 0.0769 - accuracy: 0.9738\n",
      "Epoch 36/50\n",
      "3017/3017 [==============================] - 7s 2ms/step - loss: 0.0772 - accuracy: 0.9738\n",
      "Epoch 37/50\n",
      "3017/3017 [==============================] - 7s 2ms/step - loss: 0.0791 - accuracy: 0.9741\n",
      "Epoch 38/50\n",
      "3017/3017 [==============================] - 7s 2ms/step - loss: 0.0756 - accuracy: 0.9738\n",
      "Epoch 39/50\n",
      "3017/3017 [==============================] - 7s 2ms/step - loss: 0.0734 - accuracy: 0.9728\n",
      "Epoch 40/50\n",
      "3017/3017 [==============================] - 8s 3ms/step - loss: 0.0795 - accuracy: 0.9748\n",
      "Epoch 41/50\n",
      "3017/3017 [==============================] - 7s 2ms/step - loss: 0.0719 - accuracy: 0.9741\n",
      "Epoch 42/50\n",
      "3017/3017 [==============================] - 7s 2ms/step - loss: 0.0703 - accuracy: 0.9748\n",
      "Epoch 43/50\n",
      "3017/3017 [==============================] - 7s 2ms/step - loss: 0.0651 - accuracy: 0.9748\n",
      "Epoch 44/50\n",
      "3017/3017 [==============================] - 7s 2ms/step - loss: 0.0698 - accuracy: 0.9755\n",
      "Epoch 45/50\n",
      "3017/3017 [==============================] - 7s 2ms/step - loss: 0.0733 - accuracy: 0.9768\n",
      "Epoch 46/50\n",
      "3017/3017 [==============================] - 7s 2ms/step - loss: 0.0655 - accuracy: 0.9768\n",
      "Epoch 47/50\n",
      "3017/3017 [==============================] - 7s 2ms/step - loss: 0.0656 - accuracy: 0.9765\n",
      "Epoch 48/50\n",
      "3017/3017 [==============================] - 7s 2ms/step - loss: 0.0732 - accuracy: 0.9755\n",
      "Epoch 49/50\n",
      "3017/3017 [==============================] - 7s 2ms/step - loss: 0.0673 - accuracy: 0.9771\n",
      "Epoch 50/50\n",
      "3017/3017 [==============================] - 7s 2ms/step - loss: 0.0759 - accuracy: 0.9728\n"
     ]
    },
    {
     "data": {
      "text/plain": [
       "<keras.callbacks.History at 0x1e69c3628f0>"
      ]
     },
     "execution_count": 18,
     "metadata": {},
     "output_type": "execute_result"
    }
   ],
   "source": [
    "Classification_model.fit(X_train, y_train, batch_size=1, epochs=50)"
   ]
  },
  {
   "cell_type": "code",
   "execution_count": 19,
   "id": "d0619d5d",
   "metadata": {},
   "outputs": [
    {
     "name": "stdout",
     "output_type": "stream",
     "text": [
      "3017/3017 [==============================] - 5s 2ms/step - loss: 0.0579 - accuracy: 0.9755\n",
      "Train score 5.7900842279195786\n",
      "Train accuracy 97.54723310470581\n"
     ]
    }
   ],
   "source": [
    "score, acc = Classification_model.evaluate(X_train, y_train, batch_size=1)\n",
    "\n",
    "print('Train score', score *100)\n",
    "print('Train accuracy', acc *100)"
   ]
  },
  {
   "cell_type": "code",
   "execution_count": 20,
   "id": "023355e0",
   "metadata": {},
   "outputs": [],
   "source": [
    "import pickle"
   ]
  },
  {
   "cell_type": "code",
   "execution_count": 21,
   "id": "4be21c20",
   "metadata": {},
   "outputs": [],
   "source": [
    "pickle.dump(Classification_model, open(\"D:\\\\Project_Disease_Prediction\\\\models\\\\thyroid_checking.pkl\", \"wb\"))"
   ]
  },
  {
   "cell_type": "code",
   "execution_count": 23,
   "id": "2801d9e1",
   "metadata": {},
   "outputs": [
    {
     "name": "stdout",
     "output_type": "stream",
     "text": [
      "3017/3017 [==============================] - 6s 2ms/step - loss: 0.0579 - accuracy: 0.9755\n"
     ]
    },
    {
     "data": {
      "text/plain": [
       "[0.057900842279195786, 0.9754723310470581]"
      ]
     },
     "execution_count": 23,
     "metadata": {},
     "output_type": "execute_result"
    }
   ],
   "source": [
    "model = pickle.load(open(\"D:\\\\Project_Disease_Prediction\\\\models\\\\thyroid_checking.pkl\", \"rb\"))\n",
    "model.evaluate(X_train, y_train, batch_size=1)"
   ]
  },
  {
   "cell_type": "code",
   "execution_count": null,
   "id": "4c9e650b",
   "metadata": {},
   "outputs": [],
   "source": []
  }
 ],
 "metadata": {
  "kernelspec": {
   "display_name": "Python 3 (ipykernel)",
   "language": "python",
   "name": "python3"
  },
  "language_info": {
   "codemirror_mode": {
    "name": "ipython",
    "version": 3
   },
   "file_extension": ".py",
   "mimetype": "text/x-python",
   "name": "python",
   "nbconvert_exporter": "python",
   "pygments_lexer": "ipython3",
   "version": "3.10.6"
  }
 },
 "nbformat": 4,
 "nbformat_minor": 5
}
